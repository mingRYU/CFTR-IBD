{
 "cells": [
  {
   "cell_type": "code",
   "execution_count": null,
   "metadata": {},
   "outputs": [
    {
     "name": "stdout",
     "output_type": "stream",
     "text": [
      "{'SAS': {'CD': 247, 'UC': 338, 'IBD': 48, 'Control': 5065}, 'AFR.AMR': {'CD': 2553, 'UC': 1664, 'IBD': 204, 'Control': 15288}, 'EAS': {'CD': 1386, 'UC': 199, 'IBD': 39, 'Control': 2571}, 'EUR': {'CD': 23250, 'UC': 15229, 'IBD': 2954, 'Control': 70440}, 'Uncertain': {'CD': 1839, 'UC': 994, 'IBD': 204, 'Control': 4415}}\n"
     ]
    }
   ],
   "source": [
    "# Get the counts of CD, UC, IBD, and Control for each ancestry group\n",
    "ancestry2counts = {}\n",
    "line_count = 0\n",
    "for line in open(\"./gnomADv4.sampleQC.tsv\", \"r\"):\n",
    "    parsed_line = line.strip(\"\\n\").split(\"\\t\")\n",
    "    if line_count == 0:\n",
    "        col2idx = {}\n",
    "        for i in range(len(parsed_line)):\n",
    "            col2idx[parsed_line[i]] = i\n",
    "    else:\n",
    "        ancestry = parsed_line[col2idx['Ancestry']]\n",
    "        if not ancestry2counts.get(ancestry):\n",
    "            ancestry2counts[ancestry] = {\"CD\": 0, \"UC\": 0, \"IBD\": 0, \"Control\": 0}\n",
    "        if ancestry2counts[ancestry].get(parsed_line[col2idx['AFF']]) is not None:\n",
    "            ancestry2counts[ancestry][parsed_line[col2idx['AFF']]] += 1\n",
    "    line_count += 1\n",
    "\n",
    "print(ancestry2counts)"
   ]
  },
  {
   "cell_type": "code",
   "execution_count": 6,
   "metadata": {},
   "outputs": [
    {
     "name": "stdout",
     "output_type": "stream",
     "text": [
      "chr7:117535326:C:T 0.000164042\n",
      "chr7:117559590:ATCT:A 0.000163559\n",
      "chr7:117587778:G:T 0.000163773\n",
      "chr7:117594990:C:T 0.000164474\n",
      "chr7:117611646:G:A 0.00114867\n",
      "chr7:117611650:G:A 0.000328192\n"
     ]
    }
   ],
   "source": [
    "# the variant freqs in EAS\n",
    "CF_risk_vars = {}\n",
    "for line in open(\"./data/CFTR2_2023.varmapped.txt\", \"r\"):\n",
    "    parsed_line = line.strip(\"\\n\").split(\"\\t\")\n",
    "    if parsed_line[5] in ['CF-causing', 'Varying clinical consequence']:\n",
    "        CF_risk_vars[parsed_line[7]] = parsed_line[5]\n",
    "\n",
    "line_count = 0\n",
    "for line in open(\"./data/EAS_CFTR.afreq\", \"r\"):\n",
    "    parsed_line = line.strip(\"\\n\").split(\"\\t\")\n",
    "    if line_count == 0:\n",
    "        col2idx = {}\n",
    "        for i in range(len(parsed_line)):\n",
    "            col2idx[parsed_line[i]] = i\n",
    "        line_count += 1\n",
    "    else:\n",
    "        if float(parsed_line[col2idx['ALT_FREQS']]) != 0 and CF_risk_vars.get(parsed_line[col2idx['ID']]):\n",
    "            print(parsed_line[col2idx['ID']], parsed_line[col2idx['ALT_FREQS']])"
   ]
  }
 ],
 "metadata": {
  "kernelspec": {
   "display_name": "Python 3",
   "language": "python",
   "name": "python3"
  },
  "language_info": {
   "codemirror_mode": {
    "name": "ipython",
    "version": 3
   },
   "file_extension": ".py",
   "mimetype": "text/x-python",
   "name": "python",
   "nbconvert_exporter": "python",
   "pygments_lexer": "ipython3",
   "version": "3.9.6"
  }
 },
 "nbformat": 4,
 "nbformat_minor": 2
}
