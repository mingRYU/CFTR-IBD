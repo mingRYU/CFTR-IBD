{
 "cells": [
  {
   "cell_type": "code",
   "execution_count": null,
   "metadata": {},
   "outputs": [],
   "source": []
  },
  {
   "cell_type": "code",
   "execution_count": 14,
   "metadata": {},
   "outputs": [],
   "source": [
    "cDNA2hg38 = {}\n",
    "line_count = 0\n",
    "for line in open(\"./data/CFTR2/CFTR2_variant_info.txt\", \"r\"):\n",
    "    parsed_line = line.strip(\"\\n\").split(\"\\t\")\n",
    "    if line_count == 0:\n",
    "        col2idx = {}\n",
    "        for i in range(len(parsed_line)):\n",
    "            col2idx[parsed_line[i]] = i\n",
    "        line_count += 1\n",
    "    else:\n",
    "        # print(parsed_line)\n",
    "        # cDNA2hg38[parsed_line[col2idx[\"cDNA\"]]] = parsed_line[col2idx[\"hg38\"]]\n",
    "        cDNA2hg38[parsed_line[col2idx[\"legacy_name\"]]] = \":\".join([\"chr\" + parsed_line[col2idx[\"grch38_chr\"]], parsed_line[col2idx[\"grch38_pos\"]], parsed_line[col2idx[\"grch38_ref\"]], parsed_line[col2idx[\"grch38_alt\"]]])\n",
    "\n",
    "year = 2021\n",
    "output = open(\"./data/CFTR2/cf_variants.burden_annot.{}.txt\".format(year), \"w\")\n",
    "line_count = 0\n",
    "for line in open(\"./data/CFTR2/{}.txt\".format(year), \"r\"):\n",
    "    parsed_line = line.strip(\"\\n\").split(\"\\t\")\n",
    "    if line_count == 0:\n",
    "        col2idx = {}\n",
    "        for i in range(len(parsed_line)):\n",
    "            col2idx[parsed_line[i]] = i\n",
    "        line_count += 1\n",
    "    else:\n",
    "        if parsed_line[col2idx[\"legacy_name\"]] in cDNA2hg38:\n",
    "\n",
    "            hg38_ID = cDNA2hg38[parsed_line[col2idx[\"legacy_name\"]]]\n",
    "            if parsed_line[col2idx[\"final_determination\"]] in ['CF-causing', 'Varying clinical consequence']:\n",
    "                output.write(\"\\t\".join([hg38_ID, \"CFTR\", parsed_line[col2idx[\"final_determination\"]].replace(\" \", \"-\")]) + \"\\n\")"
   ]
  }
 ],
 "metadata": {
  "kernelspec": {
   "display_name": "Python 3",
   "language": "python",
   "name": "python3"
  },
  "language_info": {
   "codemirror_mode": {
    "name": "ipython",
    "version": 3
   },
   "file_extension": ".py",
   "mimetype": "text/x-python",
   "name": "python",
   "nbconvert_exporter": "python",
   "pygments_lexer": "ipython3",
   "version": "3.9.6"
  }
 },
 "nbformat": 4,
 "nbformat_minor": 2
}
